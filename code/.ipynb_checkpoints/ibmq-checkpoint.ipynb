{
 "cells": [
  {
   "cell_type": "code",
   "execution_count": 1,
   "metadata": {},
   "outputs": [
    {
     "name": "stderr",
     "output_type": "stream",
     "text": [
      "C:\\Users\\abhis\\AppData\\Local\\Temp\\ipykernel_8936\\3308576192.py:6: DeprecationWarning: The package qiskit.providers.ibmq is being deprecated. Please see https://ibm.biz/provider_migration_guide to get instructions on how to migrate to qiskit-ibm-provider (https://github.com/Qiskit/qiskit-ibm-provider) and qiskit-ibm-runtime (https://github.com/Qiskit/qiskit-ibm-runtime).\n",
      "  IBMQ.save_account('819b0f3ac73f0ce4401315a866a6dafcf7cbc1b3a88b56b424d1c97d138d868ec6085bbfe8d94b3b8501089b9082f1605652a5d4e8f08ced310803d9ca9647a4')\n",
      "C:\\Users\\abhis\\AppData\\Local\\Temp\\ipykernel_8936\\3308576192.py:6: DeprecationWarning: The qiskit.IBMQ entrypoint and the qiskit-ibmq-provider package (accessible from 'qiskit.providers.ibmq`) are deprecated and will be removed in a future release. Instead you should use the qiskit-ibm-provider package which is accessible from 'qiskit_ibm_provider'. You can install it with 'pip install qiskit_ibm_provider'. Just replace 'qiskit.IBMQ' with 'qiskit_ibm_provider.IBMProvider'\n",
      "  IBMQ.save_account('819b0f3ac73f0ce4401315a866a6dafcf7cbc1b3a88b56b424d1c97d138d868ec6085bbfe8d94b3b8501089b9082f1605652a5d4e8f08ced310803d9ca9647a4')\n",
      "configrc.store_credentials:WARNING:2023-03-17 14:07:49,162: Credentials already present. Set overwrite=True to overwrite.\n"
     ]
    },
    {
     "data": {
      "text/html": [
       "<pre style=\"word-wrap: normal;white-space: pre;background: #fff0;line-height: 1.1;font-family: &quot;Courier New&quot;,Courier,monospace\">     \n",
       "q_0: \n",
       "     \n",
       "q_1: \n",
       "     \n",
       "c: 2/\n",
       "     </pre>"
      ],
      "text/plain": [
       "     \n",
       "q_0: \n",
       "     \n",
       "q_1: \n",
       "     \n",
       "c: 2/\n",
       "     "
      ]
     },
     "execution_count": 1,
     "metadata": {},
     "output_type": "execute_result"
    }
   ],
   "source": [
    "# Importing the 'Qiskit' Module\n",
    "from qiskit import *\n",
    "from qiskit import IBMQ\n",
    "# paste the api code in 'apostrophes'\n",
    "#you only need to save the account once, from the next time just load the account.\n",
    "IBMQ.save_account('819b0f3ac73f0ce4401315a866a6dafcf7cbc1b3a88b56b424d1c97d138d868ec6085bbfe8d94b3b8501089b9082f1605652a5d4e8f08ced310803d9ca9647a4')\n",
    "IBMQ.load_account()\n",
    "# Creating a Quantum circuit\n",
    "circuit = QuantumCircuit(2,2)\n",
    "# To view the circuit, we use the 'draw()' funcction.\n",
    "circuit.draw()"
   ]
  },
  {
   "cell_type": "code",
   "execution_count": null,
   "metadata": {},
   "outputs": [],
   "source": []
  }
 ],
 "metadata": {
  "kernelspec": {
   "display_name": "Python 3 (ipykernel)",
   "language": "python",
   "name": "python3"
  },
  "language_info": {
   "codemirror_mode": {
    "name": "ipython",
    "version": 3
   },
   "file_extension": ".py",
   "mimetype": "text/x-python",
   "name": "python",
   "nbconvert_exporter": "python",
   "pygments_lexer": "ipython3",
   "version": "3.11.0"
  }
 },
 "nbformat": 4,
 "nbformat_minor": 2
}
