{
 "cells": [
  {
   "cell_type": "code",
   "execution_count": 1,
   "id": "1de7f490",
   "metadata": {},
   "outputs": [],
   "source": [
    "# Importing Qiskit\n",
    "from qiskit import *"
   ]
  },
  {
   "cell_type": "code",
   "execution_count": 2,
   "id": "73e88a65",
   "metadata": {},
   "outputs": [],
   "source": [
    "# Creating Quantum and Classical Registers\n",
    "quantum_register= QuantumRegister(2)\n",
    "classical_register= ClassicalRegister(2)"
   ]
  },
  {
   "cell_type": "code",
   "execution_count": 3,
   "id": "6535a078",
   "metadata": {},
   "outputs": [],
   "source": [
    "# Creating a Quantum Circuit\n",
    "quantum_circuit= QuantumCircuit(quantum_register, classical_register)"
   ]
  },
  {
   "cell_type": "code",
   "execution_count": 4,
   "id": "251ac6d6",
   "metadata": {},
   "outputs": [
    {
     "data": {
      "text/html": [
       "<pre style=\"word-wrap: normal;white-space: pre;background: #fff0;line-height: 1.1;font-family: &quot;Courier New&quot;,Courier,monospace\">      \n",
       "q0_0: \n",
       "      \n",
       "q0_1: \n",
       "      \n",
       "c0: 2/\n",
       "      </pre>"
      ],
      "text/plain": [
       "      \n",
       "q0_0: \n",
       "      \n",
       "q0_1: \n",
       "      \n",
       "c0: 2/\n",
       "      "
      ]
     },
     "execution_count": 4,
     "metadata": {},
     "output_type": "execute_result"
    }
   ],
   "source": [
    "# To view the circuit\n",
    "quantum_circuit.draw()"
   ]
  },
  {
   "cell_type": "code",
   "execution_count": 5,
   "id": "9c0aeaf6",
   "metadata": {},
   "outputs": [
    {
     "data": {
      "text/html": [
       "<pre style=\"word-wrap: normal;white-space: pre;background: #fff0;line-height: 1.1;font-family: &quot;Courier New&quot;,Courier,monospace\">           \n",
       "q0_0: ──■──\n",
       "      ┌─┴─┐\n",
       "q0_1: ┤ X ├\n",
       "      └───┘\n",
       "c0: 2/═════\n",
       "           </pre>"
      ],
      "text/plain": [
       "           \n",
       "q0_0: ──■──\n",
       "      ┌─┴─┐\n",
       "q0_1: ┤ X ├\n",
       "      └───┘\n",
       "c0: 2/═════\n",
       "           "
      ]
     },
     "execution_count": 5,
     "metadata": {},
     "output_type": "execute_result"
    }
   ],
   "source": [
    "# Adding X Gate to the circuit\n",
    "# The 0 indicates the 'q0' register\n",
    "quantum_circuit.cx(0,1)\n",
    "\n",
    "# Draw the circuit again\n",
    "quantum_circuit.draw()"
   ]
  },
  {
   "cell_type": "code",
   "execution_count": 6,
   "id": "52dc95aa",
   "metadata": {},
   "outputs": [
    {
     "data": {
      "text/html": [
       "<pre style=\"word-wrap: normal;white-space: pre;background: #fff0;line-height: 1.1;font-family: &quot;Courier New&quot;,Courier,monospace\">           ┌─┐   \n",
       "q0_0: ──■──┤M├───\n",
       "      ┌─┴─┐└╥┘┌─┐\n",
       "q0_1: ┤ X ├─╫─┤M├\n",
       "      └───┘ ║ └╥┘\n",
       "c0: 2/══════╩══╩═\n",
       "            0  1 </pre>"
      ],
      "text/plain": [
       "           ┌─┐   \n",
       "q0_0: ──■──┤M├───\n",
       "      ┌─┴─┐└╥┘┌─┐\n",
       "q0_1: ┤ X ├─╫─┤M├\n",
       "      └───┘ ║ └╥┘\n",
       "c0: 2/══════╩══╩═\n",
       "            0  1 "
      ]
     },
     "execution_count": 6,
     "metadata": {},
     "output_type": "execute_result"
    }
   ],
   "source": [
    "# Now we have to measure this to see how the gate works\n",
    "# 0,0 defines quantum register 0 (q0) to classical register 0 (c0)\n",
    "quantum_circuit.measure(0,0)\n",
    "quantum_circuit.measure(1,1)\n",
    "quantum_circuit.draw()"
   ]
  },
  {
   "cell_type": "code",
   "execution_count": 7,
   "id": "7a878c9e",
   "metadata": {},
   "outputs": [
    {
     "name": "stdout",
     "output_type": "stream",
     "text": [
      "Result(backend_name='qasm_simulator', backend_version='0.11.2', qobj_id='4474ad1e-b379-48e1-8391-c7a7db7adf69', job_id='b94edd21-c3b6-40b0-b9aa-76dbe555c7a3', success=True, results=[ExperimentResult(shots=1024, success=True, meas_level=2, data=ExperimentResultData(counts={'0x0': 1024}), header=QobjExperimentHeader(clbit_labels=[['c0', 0], ['c0', 1]], creg_sizes=[['c0', 2]], global_phase=0.0, memory_slots=2, metadata={}, n_qubits=2, name='circuit-87', qreg_sizes=[['q0', 2]], qubit_labels=[['q0', 0], ['q0', 1]]), status=DONE, seed_simulator=2035579388, metadata={'batched_shots_optimization': False, 'method': 'stabilizer', 'active_input_qubits': [0, 1], 'device': 'CPU', 'remapped_qubits': False, 'num_qubits': 2, 'num_clbits': 2, 'sample_measure_time': 0.001131, 'input_qubit_map': [[0, 0], [1, 1]], 'measure_sampling': True, 'noise': 'ideal', 'parallel_shots': 1, 'parallel_state_update': 20, 'fusion': {'enabled': False}}, time_taken=0.0032951)], date=2023-03-08T16:33:25.238665, status=COMPLETED, header=QobjHeader(backend_name='qasm_simulator', backend_version='0.11.2'), metadata={'parallel_experiments': 1, 'omp_enabled': True, 'max_memory_mb': 16108, 'max_gpu_memory_mb': 0, 'num_processes_per_experiments': 1, 'time_taken_load_qobj': 8.35e-05, 'mpi_rank': 0, 'num_mpi_processes': 1, 'time_taken_execute': 0.0034207, 'time_taken': 0.0035087}, time_taken=0.004033327102661133)\n"
     ]
    }
   ],
   "source": [
    "# As we can see, the circuit now has a X Gate. We can now measure the qubit at the quantum register.\n",
    "# For this we have two methods, AER(quantum computer simulator) and IBM (IBM's quantum computer)\n",
    "from qiskit.providers.aer import QasmSimulator\n",
    "backend= QasmSimulator()\n",
    "job = backend.run(quantum_circuit,shots=1024)\n",
    "result = job.result()\n",
    "print(result)"
   ]
  },
  {
   "cell_type": "code",
   "execution_count": 8,
   "id": "c0d7ca22",
   "metadata": {},
   "outputs": [
    {
     "data": {
      "image/png": "[encoded data removed]",
      "text/plain": [
       "<Figure size 700x500 with 1 Axes>"
      ]
     },
     "execution_count": 8,
     "metadata": {},
     "output_type": "execute_result"
    }
   ],
   "source": [
    "# We can plot a histogram to see the values\n",
    "from qiskit.visualization import plot_histogram\n",
    "counts = result.get_counts(quantum_circuit)\n",
    "plot_histogram(counts)"
   ]
  },
  {
   "cell_type": "code",
   "execution_count": 9,
   "id": "5b3c9508",
   "metadata": {},
   "outputs": [
    {
     "name": "stdout",
     "output_type": "stream",
     "text": [
      "{'00': 1024}\n"
     ]
    }
   ],
   "source": [
    "# Let us see the counts\n",
    "print(counts)"
   ]
  },
  {
   "cell_type": "code",
   "execution_count": 10,
   "id": "320fc7f1",
   "metadata": {},
   "outputs": [],
   "source": [
    "# All the tries have turned out to be 1, so the X Gate worked. The input 0 is turned into 1."
   ]
  },
  {
   "cell_type": "code",
   "execution_count": 11,
   "id": "bd6a66b1",
   "metadata": {},
   "outputs": [],
   "source": [
    "# Now let us see the working of this circuit on a real quantum machine.\n",
    "# Note: You need to create an IBMQ account before proceeding.\n",
    "from qiskit import IBMQ\n",
    "\n",
    "# This step is for first time users.\n",
    "# 'IBMQ.save_account(TOKEN)'\n",
    "# For this token, visit https://quantum-computing.ibm.com/ create an account with any email id\n",
    "# and login to view the token and copy it."
   ]
  },
  {
   "cell_type": "code",
   "execution_count": 12,
   "id": "4a7d9ec8",
   "metadata": {},
   "outputs": [
    {
     "name": "stderr",
     "output_type": "stream",
     "text": [
      "C:\\Users\\abhis\\AppData\\Local\\Temp\\ipykernel_36628\\1664362228.py:2: DeprecationWarning: The package qiskit.providers.ibmq is being deprecated. Please see https://ibm.biz/provider_migration_guide to get instructions on how to migrate to qiskit-ibm-provider (https://github.com/Qiskit/qiskit-ibm-provider) and qiskit-ibm-runtime (https://github.com/Qiskit/qiskit-ibm-runtime).\n",
      "  IBMQ.load_account()\n",
      "C:\\Users\\abhis\\AppData\\Local\\Temp\\ipykernel_36628\\1664362228.py:2: DeprecationWarning: The qiskit.IBMQ entrypoint and the qiskit-ibmq-provider package (accessible from 'qiskit.providers.ibmq`) are deprecated and will be removed in a future release. Instead you should use the qiskit-ibm-provider package which is accessible from 'qiskit_ibm_provider'. You can install it with 'pip install qiskit_ibm_provider'. Just replace 'qiskit.IBMQ' with 'qiskit_ibm_provider.IBMProvider'\n",
      "  IBMQ.load_account()\n"
     ]
    },
    {
     "name": "stdout",
     "output_type": "stream",
     "text": [
      "['ibmq_qasm_simulator', 'ibmq_lima', 'ibmq_belem', 'ibmq_quito', 'simulator_statevector', 'simulator_mps', 'simulator_extended_stabilizer', 'simulator_stabilizer', 'ibmq_jakarta', 'ibmq_manila', 'ibm_lagos', 'ibm_nairobi', 'ibm_perth', 'ibm_oslo']\n"
     ]
    }
   ],
   "source": [
    "# This step is after you have created and saved your account.\n",
    "IBMQ.load_account()\n",
    "\n",
    "# To view all the poviders\n",
    "print([backend.name() for backend in IBMQ.providers()[0].backends()])"
   ]
  },
  {
   "cell_type": "code",
   "execution_count": 13,
   "id": "66407ae3",
   "metadata": {},
   "outputs": [
    {
     "name": "stdout",
     "output_type": "stream",
     "text": [
      "Job Status: job is queued (5)     "
     ]
    }
   ],
   "source": [
    "# We can select any provider, but ibmq_manila will work.\n",
    "from qiskit.tools.monitor import job_monitor\n",
    "provider = IBMQ.get_provider(hub = 'ibm-q',group = 'open',project='main')\n",
    "backend = provider.get_backend('ibmq_lima')\n",
    "job = execute(quantum_circuit, backend=backend, shots=100)\n",
    "job_monitor(job)\n",
    "results = job.result()"
   ]
  },
  {
   "cell_type": "code",
   "execution_count": null,
   "id": "bdb056bd",
   "metadata": {},
   "outputs": [
    {
     "data": {
      "image/png": "[encoded data removed]",
      "text/plain": [
       "<Figure size 504x360 with 1 Axes>"
      ]
     },
     "execution_count": 14,
     "metadata": {},
     "output_type": "execute_result"
    }
   ],
   "source": [
    "# Plot histogram of the outputs recieved.\n",
    "counts = results.get_counts(quantum_circuit)\n",
    "plot_histogram(counts)"
   ]
  },
  {
   "cell_type": "code",
   "execution_count": null,
   "id": "20c36afc",
   "metadata": {},
   "outputs": [],
   "source": []
  }
 ],
 "metadata": {
  "interpreter": {
   "hash": "37a42aaa31cc67f1bd04bce9cdd9af29f0bea779c6cd9677f08a81b83d4d2488"
  },
  "kernelspec": {
   "display_name": "Python 3 (ipykernel)",
   "language": "python",
   "name": "python3"
  },
  "language_info": {
   "codemirror_mode": {
    "name": "ipython",
    "version": 3
   },
   "file_extension": ".py",
   "mimetype": "text/x-python",
   "name": "python",
   "nbconvert_exporter": "python",
   "pygments_lexer": "ipython3",
   "version": "3.11.0"
  }
 },
 "nbformat": 4,
 "nbformat_minor": 5
}
